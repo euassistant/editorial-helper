{
 "cells": [
  {
   "cell_type": "code",
   "execution_count": 4,
   "metadata": {},
   "outputs": [
    {
     "name": "stdout",
     "output_type": "stream",
     "text": [
      "Folder '../Dealt With/' does not exist.\n"
     ]
    },
    {
     "ename": "CatalogException",
     "evalue": "Catalog Error: Table with name reviews does not exist!\nDid you mean \"pg_views\"?\n\nLINE 1: SELECT * FROM reviews\n                      ^",
     "output_type": "error",
     "traceback": [
      "\u001b[1;31m---------------------------------------------------------------------------\u001b[0m",
      "\u001b[1;31mCatalogException\u001b[0m                          Traceback (most recent call last)",
      "Cell \u001b[1;32mIn[4], line 64\u001b[0m\n\u001b[0;32m     62\u001b[0m \u001b[38;5;66;03m# Load and print table contents\u001b[39;00m\n\u001b[0;32m     63\u001b[0m con \u001b[38;5;241m=\u001b[39m duckdb\u001b[38;5;241m.\u001b[39mconnect(database\u001b[38;5;241m=\u001b[39m\u001b[38;5;124m'\u001b[39m\u001b[38;5;124mreviews.duckdb\u001b[39m\u001b[38;5;124m'\u001b[39m)\n\u001b[1;32m---> 64\u001b[0m df \u001b[38;5;241m=\u001b[39m \u001b[43mcon\u001b[49m\u001b[38;5;241;43m.\u001b[39;49m\u001b[43mexecute\u001b[49m\u001b[43m(\u001b[49m\u001b[38;5;124;43m\"\u001b[39;49m\u001b[38;5;124;43mSELECT * FROM reviews\u001b[39;49m\u001b[38;5;124;43m\"\u001b[39;49m\u001b[43m)\u001b[49m\u001b[38;5;241m.\u001b[39mfetchdf()  \n\u001b[0;32m     65\u001b[0m con\u001b[38;5;241m.\u001b[39mclose()\n\u001b[0;32m     67\u001b[0m \u001b[38;5;28mprint\u001b[39m(df\u001b[38;5;241m.\u001b[39mhead())  \u001b[38;5;66;03m# Print first few rows\u001b[39;00m\n",
      "\u001b[1;31mCatalogException\u001b[0m: Catalog Error: Table with name reviews does not exist!\nDid you mean \"pg_views\"?\n\nLINE 1: SELECT * FROM reviews\n                      ^"
     ]
    }
   ],
   "source": [
    "import re\n",
    "import os\n",
    "import duckdb\n",
    "import pandas as pd\n",
    "from datetime import datetime\n",
    "\n",
    "def import_data():\n",
    "    folder_path = '../Dealt With/'\n",
    "    pattern = r'([A-Za-z]+)-D-(\\d{2}-\\d{5})(R\\d+)\\s\\((.*?)\\)\\s(\\d{4})-(\\d{2})-(\\d{2})\\.pdf'\n",
    "    \n",
    "    if not os.path.exists(folder_path):\n",
    "        print(f\"Folder '{folder_path}' does not exist.\")\n",
    "        return\n",
    "\n",
    "    files = os.listdir(folder_path)\n",
    "    file_data = []\n",
    "\n",
    "    for file_name in files:\n",
    "        file_path = os.path.join(folder_path, file_name)\n",
    "        if os.path.isfile(file_path):  # Ensure it's a file, not a directory\n",
    "            match = re.search(pattern, file_name)\n",
    "            if match:\n",
    "                file_data.append({\n",
    "                    'Name': file_name,\n",
    "                    'MS_Number': f\"{match.group(1)}-D-{match.group(2)}{match.group(3)}\", \n",
    "                    'Version': match.group(3),\n",
    "                    'Year': int(match.group(5)),\n",
    "                    'Editor': match.group(4),\n",
    "                    'Journal': match.group(1)\n",
    "                })\n",
    "\n",
    "    if file_data:\n",
    "        df = pd.DataFrame(file_data)\n",
    "\n",
    "        # Connect to DuckDB and insert data\n",
    "        con = duckdb.connect(database='reviews.duckdb')\n",
    "\n",
    "        con.execute(\"\"\"\n",
    "        CREATE TABLE IF NOT EXISTS reviews (\n",
    "            Name STRING,\n",
    "            MS_Number STRING,\n",
    "            Version STRING,\n",
    "            Year INTEGER,\n",
    "            Editor STRING,\n",
    "            Journal STRING\n",
    "        )\"\"\")\n",
    "        \n",
    "        # Insert new data into the table\n",
    "        con.execute(\"INSERT INTO reviews SELECT * FROM df\")\n",
    "\n",
    "        con.close()\n",
    "        print(\"Data imported successfully into DuckDB.\")\n",
    "    else:\n",
    "        print(\"No matching files found.\")\n",
    "\n",
    "def main():\n",
    "    import_data()\n",
    "\n",
    "if __name__ == \"__main__\":\n",
    "    main()\n",
    "\n",
    "# Load and print table contents\n",
    "con = duckdb.connect(database='reviews.duckdb')\n",
    "df = con.execute(\"SELECT * FROM reviews\").fetchdf()  \n",
    "con.close()\n",
    "\n",
    "print(df.head())  # Print first few rows"
   ]
  }
 ],
 "metadata": {
  "kernelspec": {
   "display_name": "Python 3",
   "language": "python",
   "name": "python3"
  },
  "language_info": {
   "codemirror_mode": {
    "name": "ipython",
    "version": 3
   },
   "file_extension": ".py",
   "mimetype": "text/x-python",
   "name": "python",
   "nbconvert_exporter": "python",
   "pygments_lexer": "ipython3",
   "version": "3.12.6"
  }
 },
 "nbformat": 4,
 "nbformat_minor": 2
}
