{
 "cells": [
  {
   "cell_type": "code",
   "execution_count": 2,
   "metadata": {},
   "outputs": [
    {
     "name": "stdout",
     "output_type": "stream",
     "text": [
      "Index(['Name', 'MS Number', 'Version', 'Year', 'Editor', 'Journal',\n",
      "       'Date Invited', 'Date Completed'],\n",
      "      dtype='object')\n"
     ]
    }
   ],
   "source": [
    "import pandas as pd\n",
    "pd.set_option('display.max_rows', None)\n",
    "data = pd.read_csv(\"../reviewer_metrics.csv\")\n",
    "print(data.columns)"
   ]
  },
  {
   "cell_type": "code",
   "execution_count": 3,
   "metadata": {},
   "outputs": [
    {
     "name": "stderr",
     "output_type": "stream",
     "text": [
      "C:\\Users\\moisea\\AppData\\Local\\Temp\\ipykernel_14388\\708727412.py:6: SettingWithCopyWarning: \n",
      "A value is trying to be set on a copy of a slice from a DataFrame.\n",
      "Try using .loc[row_indexer,col_indexer] = value instead\n",
      "\n",
      "See the caveats in the documentation: https://pandas.pydata.org/pandas-docs/stable/user_guide/indexing.html#returning-a-view-versus-a-copy\n",
      "  df_subset['Date Invited'] = pd.to_datetime(df_subset['Date Invited'], format='%Y-%m-%d', errors='coerce')\n",
      "C:\\Users\\moisea\\AppData\\Local\\Temp\\ipykernel_14388\\708727412.py:7: SettingWithCopyWarning: \n",
      "A value is trying to be set on a copy of a slice from a DataFrame.\n",
      "Try using .loc[row_indexer,col_indexer] = value instead\n",
      "\n",
      "See the caveats in the documentation: https://pandas.pydata.org/pandas-docs/stable/user_guide/indexing.html#returning-a-view-versus-a-copy\n",
      "  df_subset['Date Completed'] = pd.to_datetime(df_subset['Date Completed'], format='%Y-%m-%d', errors='coerce')\n",
      "C:\\Users\\moisea\\AppData\\Local\\Temp\\ipykernel_14388\\708727412.py:8: SettingWithCopyWarning: \n",
      "A value is trying to be set on a copy of a slice from a DataFrame.\n",
      "Try using .loc[row_indexer,col_indexer] = value instead\n",
      "\n",
      "See the caveats in the documentation: https://pandas.pydata.org/pandas-docs/stable/user_guide/indexing.html#returning-a-view-versus-a-copy\n",
      "  df_subset['Days'] = (df_subset['Date Completed'] - df_subset['Date Invited']).dt.days\n"
     ]
    }
   ],
   "source": [
    "# Subset data to year >= 2020\n",
    "\n",
    "df_subset = data[data[\"Year\"] >= 2020]\n",
    "#df_subset = df_subset[df_subset[\"Date Invited\"].isna()]\n",
    "# Calcuate the difference in days between \"Date Invited\" & \"Date Completed\"\n",
    "df_subset['Date Invited'] = pd.to_datetime(df_subset['Date Invited'], format='%Y-%m-%d', errors='coerce')\n",
    "df_subset['Date Completed'] = pd.to_datetime(df_subset['Date Completed'], format='%Y-%m-%d', errors='coerce')\n",
    "df_subset['Days'] = (df_subset['Date Completed'] - df_subset['Date Invited']).dt.days     "
   ]
  },
  {
   "cell_type": "code",
   "execution_count": null,
   "metadata": {},
   "outputs": [],
   "source": [
    "new_df = df_subset.sort_values(by='Date Completed', ascending=False)\n",
    "# new_df = new_df[new_df[\"Days\"] > 20]\n",
    "# new_df"
   ]
  },
  {
   "cell_type": "code",
   "execution_count": 5,
   "metadata": {},
   "outputs": [],
   "source": [
    "# Export for submission to Rod \n",
    "# Remove \"Days\" column\n",
    "new_df.to_excel('reviwer_metrics[spring 2025].xlsx',index=False)"
   ]
  }
 ],
 "metadata": {
  "kernelspec": {
   "display_name": "Python 3",
   "language": "python",
   "name": "python3"
  },
  "language_info": {
   "codemirror_mode": {
    "name": "ipython",
    "version": 3
   },
   "file_extension": ".py",
   "mimetype": "text/x-python",
   "name": "python",
   "nbconvert_exporter": "python",
   "pygments_lexer": "ipython3",
   "version": "3.12.6"
  }
 },
 "nbformat": 4,
 "nbformat_minor": 2
}
